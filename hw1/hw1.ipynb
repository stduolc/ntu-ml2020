{
 "cells": [
  {
   "cell_type": "code",
   "execution_count": 1,
   "metadata": {},
   "outputs": [],
   "source": [
    "import sys\n",
    "import numpy as np\n",
    "import pandas as pd\n",
    "import csv"
   ]
  },
  {
   "cell_type": "code",
   "execution_count": 4,
   "metadata": {},
   "outputs": [],
   "source": [
    "raw_data = np.genfromtxt('./train.csv', delimiter=',') ## train.csv\n",
    "data = raw_data[1:,3:]\n",
    "where_are_NaNs = np.isnan(data)\n",
    "data[where_are_NaNs] = 0 \n",
    "\n",
    "month_to_data = {}  ## Dictionary (key:month , value:data)                                  \n",
    "\n",
    "for month in range(12):\n",
    "    sample = np.empty(shape = (18 , 480))\n",
    "    for day in range(20):\n",
    "        for hour in range(24): \n",
    "            sample[:,day * 24 + hour] = data[18 * (month * 20 + day): 18 * (month * 20 + day + 1),hour]\n",
    "    month_to_data[month] = sample  "
   ]
  },
  {
   "cell_type": "code",
   "execution_count": 5,
   "metadata": {},
   "outputs": [],
   "source": [
    "x = np.empty(shape = (12 * 471 , 18 * 9),dtype = float)\n",
    "y = np.empty(shape = (12 * 471 , 1),dtype = float)\n",
    "\n",
    "for month in range(12): \n",
    "    for day in range(20): \n",
    "        for hour in range(24):   \n",
    "            if day == 19 and hour > 14:\n",
    "                continue  \n",
    "            x[month * 471 + day * 24 + hour,:] = month_to_data[month][:,day * 24 + hour : day * 24 + hour + 9].reshape(1,-1) \n",
    "            y[month * 471 + day * 24 + hour,0] = month_to_data[month][9 ,day * 24 + hour + 9]"
   ]
  },
  {
   "cell_type": "code",
   "execution_count": 6,
   "metadata": {},
   "outputs": [],
   "source": [
    "mean = np.mean(x, axis = 0) \n",
    "std = np.std(x, axis = 0)\n",
    "for i in range(x.shape[0]):\n",
    "    for j in range(x.shape[1]):\n",
    "        if not std[j] == 0 :\n",
    "            x[i][j] = (x[i][j]- mean[j]) / std[j]"
   ]
  },
  {
   "cell_type": "code",
   "execution_count": 7,
   "metadata": {},
   "outputs": [
    {
     "name": "stdout",
     "output_type": "stream",
     "text": [
      "T= 0\n",
      "Loss: 27.071214829194115\n",
      "T= 500\n",
      "Loss: 15.303358672239398\n",
      "T= 1000\n",
      "Loss: 9.957336253580277\n",
      "T= 1500\n",
      "Loss: 7.879329888549475\n",
      "T= 2000\n",
      "Loss: 6.861485712171394\n",
      "T= 2500\n",
      "Loss: 6.339003480940456\n",
      "T= 3000\n",
      "Loss: 6.060560050269416\n",
      "T= 3500\n",
      "Loss: 5.9069391516050365\n",
      "T= 4000\n",
      "Loss: 5.819427069726108\n",
      "T= 4500\n",
      "Loss: 5.768117525889319\n",
      "T= 5000\n",
      "Loss: 5.737251324218732\n",
      "T= 5500\n",
      "Loss: 5.718247893619341\n",
      "T= 6000\n",
      "Loss: 5.70629462196756\n",
      "T= 6500\n",
      "Loss: 5.698621259127973\n",
      "T= 7000\n",
      "Loss: 5.693596789769688\n",
      "T= 7500\n",
      "Loss: 5.690241610223954\n",
      "T= 8000\n",
      "Loss: 5.687956629045993\n",
      "T= 8500\n",
      "Loss: 5.686369228004013\n",
      "T= 9000\n",
      "Loss: 5.685243884510883\n",
      "T= 9500\n",
      "Loss: 5.684429390954337\n"
     ]
    }
   ],
   "source": [
    "dim = x.shape[1] + 1 \n",
    "w = np.zeros(shape = (dim, 1 ))\n",
    "x = np.concatenate((np.ones((x.shape[0], 1 )), x) , axis = 1).astype(float)\n",
    "learning_rate = np.array([[200]] * dim)\n",
    "adagrad_sum = np.zeros(shape = (dim, 1 ))\n",
    " \n",
    "for T in range(10000):\n",
    "    if(T % 500 == 0 ):\n",
    "        print(\"T=\",T)\n",
    "        print(\"Loss:\",np.power(np.sum(np.power(x.dot(w) - y, 2 ))/ x.shape[0],0.5))\n",
    "    gradient = (-2) * np.transpose(x).dot(y-x.dot(w))\n",
    "    adagrad_sum += gradient ** 2\n",
    "    w = w - learning_rate * gradient / (np.sqrt(adagrad_sum) + 0.0005)\n",
    "\n",
    "np.save('weight.npy',w)     ## save weight"
   ]
  }
 ],
 "metadata": {
  "kernelspec": {
   "display_name": "Python 3",
   "language": "python",
   "name": "python3"
  },
  "language_info": {
   "codemirror_mode": {
    "name": "ipython",
    "version": 3
   },
   "file_extension": ".py",
   "mimetype": "text/x-python",
   "name": "python",
   "nbconvert_exporter": "python",
   "pygments_lexer": "ipython3",
   "version": "3.7.5"
  }
 },
 "nbformat": 4,
 "nbformat_minor": 4
}
